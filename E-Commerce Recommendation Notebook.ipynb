{
 "cells": [
  {
   "cell_type": "code",
   "execution_count": 1,
   "metadata": {},
   "outputs": [],
   "source": [
    "# Import Libraries\n",
    "import sqlite3\n",
    "import pandas as pd\n",
    "\n",
    "# Create database\n",
    "db = sqlite3.connect(\"transactions.db\")\n"
   ]
  },
  {
   "cell_type": "code",
   "execution_count": 2,
   "metadata": {},
   "outputs": [],
   "source": [
    "# Connect to database\n",
    "con = sqlite3.connect(\"/Users/DJ/E-Commerce-Recommendations/transactions.db\")"
   ]
  },
  {
   "cell_type": "code",
   "execution_count": 3,
   "metadata": {},
   "outputs": [],
   "source": [
    "# Load txt files into pandas and separate columns\n",
    "adhesiveSealantTrans = pd.read_csv(\"/Users/DJ/E-Commerce-Recommendations/e-comm-data/Transactions with A&S.txt\",sep='\\t', header=0)\n",
    "allTransaction = pd.read_csv(\"/Users/DJ/E-Commerce-Recommendations/e-comm-data/All Transations - 2 Weeks.txt\", sep='\\t', header=0)"
   ]
  },
  {
   "cell_type": "code",
   "execution_count": 4,
   "metadata": {},
   "outputs": [
    {
     "data": {
      "text/html": [
       "<div>\n",
       "<style scoped>\n",
       "    .dataframe tbody tr th:only-of-type {\n",
       "        vertical-align: middle;\n",
       "    }\n",
       "\n",
       "    .dataframe tbody tr th {\n",
       "        vertical-align: top;\n",
       "    }\n",
       "\n",
       "    .dataframe thead th {\n",
       "        text-align: right;\n",
       "    }\n",
       "</style>\n",
       "<table border=\"1\" class=\"dataframe\">\n",
       "  <thead>\n",
       "    <tr style=\"text-align: right;\">\n",
       "      <th></th>\n",
       "      <th>order_number</th>\n",
       "      <th>l1</th>\n",
       "      <th>l2</th>\n",
       "      <th>l3</th>\n",
       "      <th>sku</th>\n",
       "      <th>brand</th>\n",
       "    </tr>\n",
       "  </thead>\n",
       "  <tbody>\n",
       "    <tr>\n",
       "      <th>0</th>\n",
       "      <td>1182478</td>\n",
       "      <td>Adhesives, Sealants and Tape</td>\n",
       "      <td>Putties</td>\n",
       "      <td>Putties</td>\n",
       "      <td>122821</td>\n",
       "      <td>2180</td>\n",
       "    </tr>\n",
       "    <tr>\n",
       "      <th>1</th>\n",
       "      <td>63908</td>\n",
       "      <td>Adhesives, Sealants and Tape</td>\n",
       "      <td>Caulks</td>\n",
       "      <td>Caulks and Sealants</td>\n",
       "      <td>276172</td>\n",
       "      <td>1054</td>\n",
       "    </tr>\n",
       "    <tr>\n",
       "      <th>2</th>\n",
       "      <td>1165840</td>\n",
       "      <td>Adhesives, Sealants and Tape</td>\n",
       "      <td>Concrete and Asphalt</td>\n",
       "      <td>Concrete Cleaners and Sealers</td>\n",
       "      <td>110119</td>\n",
       "      <td>4326</td>\n",
       "    </tr>\n",
       "    <tr>\n",
       "      <th>3</th>\n",
       "      <td>928748</td>\n",
       "      <td>Material Handling</td>\n",
       "      <td>Casters and Wheels</td>\n",
       "      <td>Plate Casters</td>\n",
       "      <td>71052</td>\n",
       "      <td>1793</td>\n",
       "    </tr>\n",
       "    <tr>\n",
       "      <th>4</th>\n",
       "      <td>1088891</td>\n",
       "      <td>Adhesives, Sealants and Tape</td>\n",
       "      <td>Glues and Cements</td>\n",
       "      <td>Retaining Compounds</td>\n",
       "      <td>251285</td>\n",
       "      <td>2515</td>\n",
       "    </tr>\n",
       "  </tbody>\n",
       "</table>\n",
       "</div>"
      ],
      "text/plain": [
       "   order_number                            l1                    l2  \\\n",
       "0       1182478  Adhesives, Sealants and Tape               Putties   \n",
       "1         63908  Adhesives, Sealants and Tape                Caulks   \n",
       "2       1165840  Adhesives, Sealants and Tape  Concrete and Asphalt   \n",
       "3        928748             Material Handling    Casters and Wheels   \n",
       "4       1088891  Adhesives, Sealants and Tape     Glues and Cements   \n",
       "\n",
       "                              l3     sku  brand  \n",
       "0                        Putties  122821   2180  \n",
       "1            Caulks and Sealants  276172   1054  \n",
       "2  Concrete Cleaners and Sealers  110119   4326  \n",
       "3                  Plate Casters   71052   1793  \n",
       "4            Retaining Compounds  251285   2515  "
      ]
     },
     "execution_count": 4,
     "metadata": {},
     "output_type": "execute_result"
    }
   ],
   "source": [
    "# Check dataframes\n",
    "adhesiveSealantTrans.head(5)"
   ]
  },
  {
   "cell_type": "code",
   "execution_count": 5,
   "metadata": {},
   "outputs": [
    {
     "data": {
      "text/html": [
       "<div>\n",
       "<style scoped>\n",
       "    .dataframe tbody tr th:only-of-type {\n",
       "        vertical-align: middle;\n",
       "    }\n",
       "\n",
       "    .dataframe tbody tr th {\n",
       "        vertical-align: top;\n",
       "    }\n",
       "\n",
       "    .dataframe thead th {\n",
       "        text-align: right;\n",
       "    }\n",
       "</style>\n",
       "<table border=\"1\" class=\"dataframe\">\n",
       "  <thead>\n",
       "    <tr style=\"text-align: right;\">\n",
       "      <th></th>\n",
       "      <th>order_number</th>\n",
       "      <th>l1</th>\n",
       "      <th>l2</th>\n",
       "      <th>l3</th>\n",
       "      <th>sku</th>\n",
       "      <th>brand</th>\n",
       "    </tr>\n",
       "  </thead>\n",
       "  <tbody>\n",
       "    <tr>\n",
       "      <th>0</th>\n",
       "      <td>168266</td>\n",
       "      <td>Power Tools</td>\n",
       "      <td>Power Saws and Accessories</td>\n",
       "      <td>Reciprocating Saw Blades</td>\n",
       "      <td>265105</td>\n",
       "      <td>2768</td>\n",
       "    </tr>\n",
       "    <tr>\n",
       "      <th>1</th>\n",
       "      <td>123986</td>\n",
       "      <td>Safety</td>\n",
       "      <td>Spill Control Supplies</td>\n",
       "      <td>Temporary Leak Repair</td>\n",
       "      <td>215839</td>\n",
       "      <td>586</td>\n",
       "    </tr>\n",
       "    <tr>\n",
       "      <th>2</th>\n",
       "      <td>158978</td>\n",
       "      <td>Hardware</td>\n",
       "      <td>Door Hardware</td>\n",
       "      <td>Thresholds</td>\n",
       "      <td>284756</td>\n",
       "      <td>1793</td>\n",
       "    </tr>\n",
       "    <tr>\n",
       "      <th>3</th>\n",
       "      <td>449035</td>\n",
       "      <td>Electronics, Appliances, and Batteries</td>\n",
       "      <td>Batteries</td>\n",
       "      <td>Standard Batteries</td>\n",
       "      <td>12579</td>\n",
       "      <td>1231</td>\n",
       "    </tr>\n",
       "    <tr>\n",
       "      <th>4</th>\n",
       "      <td>781232</td>\n",
       "      <td>Motors</td>\n",
       "      <td>General Purpose AC Motors</td>\n",
       "      <td>General Purpose AC Motors</td>\n",
       "      <td>194681</td>\n",
       "      <td>2603</td>\n",
       "    </tr>\n",
       "  </tbody>\n",
       "</table>\n",
       "</div>"
      ],
      "text/plain": [
       "   order_number                                      l1  \\\n",
       "0        168266                             Power Tools   \n",
       "1        123986                                  Safety   \n",
       "2        158978                                Hardware   \n",
       "3        449035  Electronics, Appliances, and Batteries   \n",
       "4        781232                                  Motors   \n",
       "\n",
       "                           l2                         l3     sku  brand  \n",
       "0  Power Saws and Accessories   Reciprocating Saw Blades  265105   2768  \n",
       "1      Spill Control Supplies      Temporary Leak Repair  215839    586  \n",
       "2               Door Hardware                 Thresholds  284756   1793  \n",
       "3                   Batteries         Standard Batteries   12579   1231  \n",
       "4   General Purpose AC Motors  General Purpose AC Motors  194681   2603  "
      ]
     },
     "execution_count": 5,
     "metadata": {},
     "output_type": "execute_result"
    }
   ],
   "source": [
    "allTransaction.head(5)"
   ]
  },
  {
   "cell_type": "code",
   "execution_count": 7,
   "metadata": {},
   "outputs": [],
   "source": [
    "# Move dataframes to sql tables in transactions.db\n",
    "adhesiveSealantTrans.to_sql(\"aNs_transactions\", con, if_exists=\"replace\", index=False)\n",
    "allTransaction.to_sql(\"all_trans\", con, if_exists=\"replace\", index=False)"
   ]
  },
  {
   "cell_type": "code",
   "execution_count": 24,
   "metadata": {
    "scrolled": false
   },
   "outputs": [
    {
     "data": {
      "text/html": [
       "<div>\n",
       "<style scoped>\n",
       "    .dataframe tbody tr th:only-of-type {\n",
       "        vertical-align: middle;\n",
       "    }\n",
       "\n",
       "    .dataframe tbody tr th {\n",
       "        vertical-align: top;\n",
       "    }\n",
       "\n",
       "    .dataframe thead th {\n",
       "        text-align: right;\n",
       "    }\n",
       "</style>\n",
       "<table border=\"1\" class=\"dataframe\">\n",
       "  <thead>\n",
       "    <tr style=\"text-align: right;\">\n",
       "      <th></th>\n",
       "      <th>'sku'</th>\n",
       "      <th>occurrence</th>\n",
       "    </tr>\n",
       "  </thead>\n",
       "  <tbody>\n",
       "    <tr>\n",
       "      <th>0</th>\n",
       "      <td>sku</td>\n",
       "      <td>3387279</td>\n",
       "    </tr>\n",
       "  </tbody>\n",
       "</table>\n",
       "</div>"
      ],
      "text/plain": [
       "  'sku'  occurrence\n",
       "0   sku     3387279"
      ]
     },
     "execution_count": 24,
     "metadata": {},
     "output_type": "execute_result"
    }
   ],
   "source": [
    "pd.read_sql_query(\"SELECT 'sku', COUNT('sku') AS 'occurrence' FROM 'aNs_transactions' GROUP BY 'sku' ORDER BY COUNT('occurence') DESC;\", con)"
   ]
  },
  {
   "cell_type": "code",
   "execution_count": null,
   "metadata": {},
   "outputs": [],
   "source": []
  }
 ],
 "metadata": {
  "kernelspec": {
   "display_name": "Python 3",
   "language": "python",
   "name": "python3"
  },
  "language_info": {
   "codemirror_mode": {
    "name": "ipython",
    "version": 3
   },
   "file_extension": ".py",
   "mimetype": "text/x-python",
   "name": "python",
   "nbconvert_exporter": "python",
   "pygments_lexer": "ipython3",
   "version": "3.7.1"
  }
 },
 "nbformat": 4,
 "nbformat_minor": 2
}
